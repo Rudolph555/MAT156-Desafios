{
  "nbformat": 4,
  "nbformat_minor": 0,
  "metadata": {
    "colab": {
      "provenance": [],
      "authorship_tag": "ABX9TyNW9XKQRrCknmiRjGnF6qSD",
      "include_colab_link": true
    },
    "kernelspec": {
      "name": "python3",
      "display_name": "Python 3"
    },
    "language_info": {
      "name": "python"
    }
  },
  "cells": [
    {
      "cell_type": "markdown",
      "metadata": {
        "id": "view-in-github",
        "colab_type": "text"
      },
      "source": [
        "<a href=\"https://colab.research.google.com/github/Rudolph555/MAT156-Desafios/blob/main/Desafio_4/Desafio_4_MAT156.ipynb\" target=\"_parent\"><img src=\"https://colab.research.google.com/assets/colab-badge.svg\" alt=\"Open In Colab\"/></a>"
      ]
    },
    {
      "cell_type": "markdown",
      "source": [
        "#**Desafio 4** - Univ. Ruddy Daniel Cruz Chura"
      ],
      "metadata": {
        "id": "986hqdbIuhgU"
      }
    },
    {
      "cell_type": "markdown",
      "source": [
        "##**Desafio 4.1** Aproximación por Taylor\n",
        "### Función a Considerar: f(x) = 25x^3-6x^2+7x-88"
      ],
      "metadata": {
        "id": "rBvHikP3ukOr"
      }
    },
    {
      "cell_type": "code",
      "execution_count": 1,
      "metadata": {
        "colab": {
          "base_uri": "https://localhost:8080/"
        },
        "id": "pTwB6JSJubMe",
        "outputId": "946ff719-6717-4434-f517-84ec90f34e2e"
      },
      "outputs": [
        {
          "output_type": "stream",
          "name": "stdout",
          "text": [
            "x0 = 1\n",
            "f(x0) = -62 \n",
            "\n",
            "x1 = 3\n",
            "f(x1) = 554 VALOR VERDADERO\n",
            "h = 2 \n",
            " ---------------------------------------------------------\n",
            "Iteracion nº 1\n",
            "Sol 1 :  78.0\n",
            "1 ª derivada:  75*x**2 - 12*x + 7  --->  70\n",
            "error de f:  140.0 \n",
            "\n",
            "Iteracion nº 2\n",
            "Sol 2 :  354.0\n",
            "2 ª derivada:  6*(25*x - 2)  --->  138\n",
            "error de f:  276.0 \n",
            "\n",
            "Iteracion nº 3\n",
            "Sol 3 :  554.0\n",
            "3 ª derivada:  150  --->  150\n",
            "error de f:  200.0 \n",
            "\n"
          ]
        }
      ],
      "source": [
        "import math\n",
        "from sympy import *\n",
        "\n",
        "#x0 = 1\n",
        "x0 = 1\n",
        "#f(x0) = 25x0^3-6x0^2+7x0-88\n",
        "fx0 = 25*x0**3-6*x0**2+7*x0-88\n",
        "print(\"x0 =\",x0)\n",
        "print(\"f(x0) =\",fx0,\"\\n\")\n",
        "\n",
        "#x1 = 3\n",
        "x1 = 3\n",
        "#f(x1) = 25x1^3-6x1^2+7x1-88\n",
        "fx1 = 25*x1**3-6*x1**2+7*x1-88\n",
        "print(\"x1 =\",x1)\n",
        "print(\"f(x1) =\",fx1, \"VALOR VERDADERO\")\n",
        "\n",
        "#h = x1-x0\n",
        "h=x1-x0\n",
        "print(\"h =\",h,\"\\n\",\"---------------------------------------------------------\")\n",
        "\n",
        "#ITERACIONES\n",
        "n=3\n",
        "x = symbols('x')\n",
        "y = 25*x**3-6*x**2+7*x-88\n",
        "\n",
        "g = 25*x0**3-6*x0**2+7*x0-88\n",
        "\n",
        "for i in range (1,n+1):\n",
        "  print(\"Iteracion nº\",i)\n",
        "  m = diff(y,x,i)\n",
        "  fun = lambdify(x,m)\n",
        "  g = g +fun(x0)/math.factorial(i)*h**i\n",
        "  print(\"Sol\",i,\": \",g)\n",
        "  print(i,\"ª derivada: \",m,\" ---> \",fun(x0))\n",
        "  ef = abs(fun(x0)*h**i)/math.factorial(i)\n",
        "  print(\"error de f: \",ef,\"\\n\")\n",
        ""
      ]
    },
    {
      "cell_type": "markdown",
      "source": [
        "##**Desafio 4.2** Aproximación por Taylor\n",
        "### Función a Considerar: f(x) = ln(x)"
      ],
      "metadata": {
        "id": "4-0Y3GcnvF2B"
      }
    },
    {
      "cell_type": "code",
      "source": [
        "import math\n",
        "from sympy import *\n",
        "\n",
        "#x0 = 1\n",
        "x0 = 1\n",
        "#f(x0) = ln(1)\n",
        "fx0 = math.log(x0)\n",
        "print(\"x0 =\",x0)\n",
        "print(\"f(x0) =\",fx0,\"\\n\")\n",
        "\n",
        "#x1 = 2.5\n",
        "x1 = 2.5\n",
        "#f(x1) = ln(2.5)\n",
        "fx1 = math.log(x1)\n",
        "print(\"x1 =\",x1)\n",
        "print(\"f(x1) =\",fx1, \"VALOR VERDADERO\")\n",
        "\n",
        "#h = x1-x0\n",
        "h=x1-x0\n",
        "print(\"h =\",h,\"\\n\",\"---------------------------------------------------------\")\n",
        "\n",
        "#ITERACIONES\n",
        "n=4\n",
        "x = symbols('x')\n",
        "y = log(x)\n",
        "\n",
        "g = math.log(x0)\n",
        "\n",
        "for i in range (1,n+1):\n",
        "  print(\"Iteracion nº\",i)\n",
        "  m = diff(y,x,i)\n",
        "  fun = lambdify(x,m)\n",
        "  g = g +fun(x0)/math.factorial(i)*h**i\n",
        "  print(\"Sol\",i,\": \",g)\n",
        "  print(i,\"ª derivada: \",m,\" ---> \",fun(x0))\n",
        "  ef = abs(fun(x0)*h**i)/math.factorial(i)\n",
        "  print(\"error de f: \",ef,\"\\n\")\n",
        ""
      ],
      "metadata": {
        "colab": {
          "base_uri": "https://localhost:8080/"
        },
        "id": "IRAM88BhvNT8",
        "outputId": "a384dfed-881b-4e8e-98ae-3f6968e10d7d"
      },
      "execution_count": 2,
      "outputs": [
        {
          "output_type": "stream",
          "name": "stdout",
          "text": [
            "x0 = 1\n",
            "f(x0) = 0.0 \n",
            "\n",
            "x1 = 2.5\n",
            "f(x1) = 0.9162907318741551 VALOR VERDADERO\n",
            "h = 1.5 \n",
            " ---------------------------------------------------------\n",
            "Iteracion nº 1\n",
            "Sol 1 :  1.5\n",
            "1 ª derivada:  1/x  --->  1.0\n",
            "error de f:  1.5 \n",
            "\n",
            "Iteracion nº 2\n",
            "Sol 2 :  0.375\n",
            "2 ª derivada:  -1/x**2  --->  -1.0\n",
            "error de f:  1.125 \n",
            "\n",
            "Iteracion nº 3\n",
            "Sol 3 :  1.5\n",
            "3 ª derivada:  2/x**3  --->  2.0\n",
            "error de f:  1.125 \n",
            "\n",
            "Iteracion nº 4\n",
            "Sol 4 :  0.234375\n",
            "4 ª derivada:  -6/x**4  --->  -6.0\n",
            "error de f:  1.265625 \n",
            "\n"
          ]
        }
      ]
    },
    {
      "cell_type": "markdown",
      "source": [
        "##**Desafio 4.3**\n",
        "##Propagación del Error\n"
      ],
      "metadata": {
        "id": "RHLlGSqevcw5"
      }
    },
    {
      "cell_type": "code",
      "source": [
        "import math\n",
        "import sympy as sp\n",
        "\n",
        "# Declaración de las variables\n",
        "B = 20       # Base (m)\n",
        "n = 0.03     # Coeficiente de Manning\n",
        "H = 0.3      # Altura del flujo (m)\n",
        "S = 0.0003   # Pendiente del canal\n",
        "\n",
        "# Cálculo de Q usando la fórmula dada\n",
        "Q1 = (1/n) * ((B * H)**(5/3)) / ((B + 2 * H)**(2/3)) * (S**0.5)\n",
        "\n",
        "print(\"Q = \",Q1,\"VALOR VERDADERO\",\"\\n\",\"---------------------------------------------------------\")\n",
        "\n",
        "# Definir las variables simbólicas\n",
        "B, n, H, S = sp.symbols('B n H S')\n",
        "\n",
        "# Definir la función simbólica para Q\n",
        "Q = (1/n) * ((B * H)**(5/3)) / ((B + 2 * H)**(2/3)) * (S**0.5)\n",
        "\n",
        "# Calcular las derivadas parciales respecto a cada variable\n",
        "dQ_dB = sp.diff(Q, B)\n",
        "dQ_dH = sp.diff(Q, H)\n",
        "dQ_dn = sp.diff(Q, n)\n",
        "dQ_dS = sp.diff(Q, S)\n",
        "\n",
        "# Mostrar las derivadas parciales\n",
        "\"\"\"print(f\"Derivada de Q respecto a B: {dQ_dB}\")\n",
        "print(f\"Derivada de Q respecto a H: {dQ_dH}\")\n",
        "print(f\"Derivada de Q respecto a n: {dQ_dn}\")\n",
        "print(f\"Derivada de Q respecto a S: {dQ_dS}\")\"\"\"\n",
        "\n",
        "# Evaluar las derivadas parciales en los valores dados\n",
        "B_val = 20\n",
        "n_val = 0.03\n",
        "H_val = 0.3\n",
        "S_val = 0.0003\n",
        "\n",
        "dQ_dB_val = dQ_dB.evalf(subs={B: B_val, n: n_val, H: H_val, S: S_val})\n",
        "dQ_dH_val = dQ_dH.evalf(subs={B: B_val, n: n_val, H: H_val, S: S_val})\n",
        "dQ_dn_val = dQ_dn.evalf(subs={B: B_val, n: n_val, H: H_val, S: S_val})\n",
        "dQ_dS_val = dQ_dS.evalf(subs={B: B_val, n: n_val, H: H_val, S: S_val})\n",
        "\n",
        "# Mostrar las evaluaciones de las derivadas\n",
        "print(f\"Evaluación de dQ/dB: {dQ_dB_val}\")\n",
        "print(f\"Evaluación de dQ/dn: {dQ_dn_val}\")\n",
        "print(f\"Evaluación de dQ/dH: {dQ_dH_val}\")\n",
        "print(f\"Evaluación de dQ/dS: {dQ_dS_val}\")\n",
        "\n",
        "# Evaluar los errores de las derivadas parciales en los valores dados\n",
        "E_B = 0.01\n",
        "E_n = 0.003\n",
        "E_H = 0.01\n",
        "E_S = 0.00003\n",
        "# Calcular el error total E_Q utilizando las derivadas parciales evaluadas\n",
        "E_Q = dQ_dB_val * E_B + dQ_dn_val * E_n + dQ_dH_val * E_H + dQ_dS_val * E_S\n",
        "\n",
        "min = Q1-E_Q\n",
        "max = Q1+E_Q\n",
        "print(\"\\n\")\n",
        "print(f\"Error de Q: {E_Q}\")\n",
        "print(f\"Error de Q - eQ: {min}\")\n",
        "print(f\"Error de Q + eQ: {max}\")\n"
      ],
      "metadata": {
        "colab": {
          "base_uri": "https://localhost:8080/"
        },
        "id": "hvvQfr-vwnGN",
        "outputId": "ef292cab-7b47-4695-c4a8-08fc8fb05138"
      },
      "execution_count": 3,
      "outputs": [
        {
          "output_type": "stream",
          "name": "stdout",
          "text": [
            "Q =  1.5221121162872078 VALOR VERDADERO \n",
            " ---------------------------------------------------------\n",
            "Evaluación de dQ/dB: 0.0775833845680373\n",
            "Evaluación de dQ/dn: -50.7370705429069\n",
            "Evaluación de dQ/dH: 8.35765984023936\n",
            "Evaluación de dQ/dS: 2536.85352714535\n",
            "\n",
            "\n",
            "Error de Q: 0.00824682643371361\n",
            "Error de Q - eQ: 1.51386528985349\n",
            "Error de Q + eQ: 1.53035894272092\n"
          ]
        }
      ]
    }
  ]
}