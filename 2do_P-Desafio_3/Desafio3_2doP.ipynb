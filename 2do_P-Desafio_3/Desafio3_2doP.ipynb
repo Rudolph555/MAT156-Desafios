{
  "nbformat": 4,
  "nbformat_minor": 0,
  "metadata": {
    "colab": {
      "provenance": [],
      "authorship_tag": "ABX9TyOj7Z2MvmFUp224ZRjmbw3d",
      "include_colab_link": true
    },
    "kernelspec": {
      "name": "python3",
      "display_name": "Python 3"
    },
    "language_info": {
      "name": "python"
    }
  },
  "cells": [
    {
      "cell_type": "markdown",
      "metadata": {
        "id": "view-in-github",
        "colab_type": "text"
      },
      "source": [
        "<a href=\"https://colab.research.google.com/github/Rudolph555/MAT156-Desafios/blob/main/2do_P-Desafio_3/Desafio3_2doP.ipynb\" target=\"_parent\"><img src=\"https://colab.research.google.com/assets/colab-badge.svg\" alt=\"Open In Colab\"/></a>"
      ]
    },
    {
      "cell_type": "markdown",
      "source": [
        "Univ. Ruddy Daniel Cru chura\n",
        "Desafio 3"
      ],
      "metadata": {
        "id": "rqlCgVelby5T"
      }
    },
    {
      "cell_type": "code",
      "execution_count": null,
      "metadata": {
        "colab": {
          "base_uri": "https://localhost:8080/"
        },
        "id": "bjahhpJtbvNO",
        "outputId": "c97064e7-7182-4f6e-9a64-ea13d449a455"
      },
      "outputs": [
        {
          "output_type": "stream",
          "name": "stdout",
          "text": [
            "Resultados de cada iteración:\n",
            "Iteración 1: [ 2.61666667 -2.79452381  7.00560952]\n",
            "Iteración 2: [ 2.99055651 -2.49962468  7.00029081]\n",
            "Iteración 3: [ 3.0000319  -2.49998799  6.99999928]\n",
            "Iteración 4: [ 3.00000035 -2.50000004  6.99999999]\n",
            "Iteración 5: [ 3.  -2.5  7. ]\n",
            "Convergió en 5 iteraciones.\n",
            "Soluciones finales:\n",
            "[ 3.  -2.5  7. ]\n"
          ]
        }
      ],
      "source": [
        "# Importar la biblioteca necesaria\n",
        "import numpy as np\n",
        "\n",
        "# Definición de la matriz A y el vector b\n",
        "A = np.array([[3, -0.1, -0.2],\n",
        "              [0.1, 7, -0.3],\n",
        "              [0.3, -0.2, 10]])\n",
        "\n",
        "b = np.array([7.85, -19.3, 71.4])\n",
        "\n",
        "# Inicialización\n",
        "x = np.zeros_like(b)  # Vector de soluciones inicializado a cero\n",
        "n_iterations = 10  # Número de iteraciones\n",
        "tolerance = 1e-5  # Tolerancia para la convergencia\n",
        "\n",
        "# Método de Gauss-Seidel\n",
        "print(\"Resultados de cada iteración:\")\n",
        "for iteration in range(n_iterations):\n",
        "    x_old = x.copy()\n",
        "\n",
        "    for i in range(len(b)):\n",
        "        # Suma de los términos\n",
        "        sigma = sum(A[i][j] * x[j] for j in range(len(b)) if j != i)\n",
        "        x[i] = (b[i] - sigma) / A[i][i]\n",
        "\n",
        "    # Mostrar los resultados de la iteración\n",
        "    print(f\"Iteración {iteration + 1}: {x}\")\n",
        "\n",
        "    # Verificación de la convergencia\n",
        "    if np.linalg.norm(x - x_old, ord=np.inf) < tolerance:\n",
        "        print(f\"Convergió en {iteration + 1} iteraciones.\")\n",
        "        break\n",
        "\n",
        "# Resultados finales\n",
        "print(\"Soluciones finales:\")\n",
        "print(x)"
      ]
    },
    {
      "cell_type": "markdown",
      "source": [],
      "metadata": {
        "id": "5REsJwfNbyRT"
      }
    }
  ]
}