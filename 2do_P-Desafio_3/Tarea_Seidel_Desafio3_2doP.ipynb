{
  "nbformat": 4,
  "nbformat_minor": 0,
  "metadata": {
    "colab": {
      "provenance": [],
      "authorship_tag": "ABX9TyMYy6WdakCnXF07Staauv6i",
      "include_colab_link": true
    },
    "kernelspec": {
      "name": "python3",
      "display_name": "Python 3"
    },
    "language_info": {
      "name": "python"
    }
  },
  "cells": [
    {
      "cell_type": "markdown",
      "metadata": {
        "id": "view-in-github",
        "colab_type": "text"
      },
      "source": [
        "<a href=\"https://colab.research.google.com/github/Rudolph555/MAT156-Desafios/blob/main/2do_P-Desafio_3/Tarea_Seidel_Desafio3_2doP.ipynb\" target=\"_parent\"><img src=\"https://colab.research.google.com/assets/colab-badge.svg\" alt=\"Open In Colab\"/></a>"
      ]
    },
    {
      "cell_type": "markdown",
      "source": [
        "**Univ. Ruddy Daniel Cruz Chura**  \n",
        "TAREA (CANTERAS) - Desafio 3 - SEIDEL"
      ],
      "metadata": {
        "id": "D03fHhxiM8x0"
      }
    },
    {
      "cell_type": "code",
      "execution_count": 1,
      "metadata": {
        "colab": {
          "base_uri": "https://localhost:8080/"
        },
        "id": "H0Y4UbA0Mrjl",
        "outputId": "33e4ec01-09b2-4a1e-d3c9-db1fc30b0b05"
      },
      "outputs": [
        {
          "output_type": "stream",
          "name": "stdout",
          "text": [
            "Resultados de cada iteración:\n",
            "Iteración 1: [9230 6082 4007]\n",
            "Iteración 2: [4965 7038 4881]\n",
            "Iteración 3: [4177 7161 5072]\n",
            "Iteración 4: [4038 7168 5114]\n",
            "Iteración 5: [4015 7165 5123]\n",
            "Iteración 6: [4012 7163 5125]\n",
            "Iteración 7: [4011 7163 5125]\n",
            "Iteración 8: [4011 7163 5125]\n",
            "Convergió en 8 iteraciones.\n",
            "Soluciones finales:\n",
            "[4011 7163 5125]\n"
          ]
        }
      ],
      "source": [
        "# Importar la biblioteca necesaria\n",
        "import numpy as np\n",
        "\n",
        "# Definición de la matriz A y el vector b\n",
        "A = np.array([[0.52, 0.2, 0.25],\n",
        "              [0.3, 0.5, 0.2],\n",
        "              [0.18, 0.3, 0.55]])\n",
        "\n",
        "b = np.array([4800, 5810, 5690])\n",
        "\n",
        "# Inicialización\n",
        "x = np.zeros_like(b)  # Vector de soluciones inicializado a cero\n",
        "n_iterations = 12  # Número de iteraciones\n",
        "tolerance = 7.68326e-05  # Tolerancia para la convergencia\n",
        "\n",
        "# Método de Gauss-Seidel\n",
        "print(\"Resultados de cada iteración:\")\n",
        "for iteration in range(n_iterations):\n",
        "    x_old = x.copy()\n",
        "\n",
        "    for i in range(len(b)):\n",
        "        # Suma de los términos\n",
        "        sigma = sum(A[i][j] * x[j] for j in range(len(b)) if j != i)\n",
        "        x[i] = (b[i] - sigma) / A[i][i]\n",
        "\n",
        "    # Mostrar los resultados de la iteración\n",
        "    print(f\"Iteración {iteration + 1}: {x}\")\n",
        "\n",
        "    # Verificación de la convergencia\n",
        "    if np.linalg.norm(x - x_old, ord=np.inf) < tolerance:\n",
        "        print(f\"Convergió en {iteration + 1} iteraciones.\")\n",
        "        break\n",
        "\n",
        "# Resultados finales\n",
        "print(\"Soluciones finales:\")\n",
        "print(x)"
      ]
    }
  ]
}