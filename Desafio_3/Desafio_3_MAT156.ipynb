{
  "nbformat": 4,
  "nbformat_minor": 0,
  "metadata": {
    "colab": {
      "provenance": [],
      "authorship_tag": "ABX9TyPgEASnV4UHJPBvpzseJ1F/",
      "include_colab_link": true
    },
    "kernelspec": {
      "name": "python3",
      "display_name": "Python 3"
    },
    "language_info": {
      "name": "python"
    }
  },
  "cells": [
    {
      "cell_type": "markdown",
      "metadata": {
        "id": "view-in-github",
        "colab_type": "text"
      },
      "source": [
        "<a href=\"https://colab.research.google.com/github/Rudolph555/MAT156-Desafios/blob/main/Desafio_3/Desafio_3_MAT156.ipynb\" target=\"_parent\"><img src=\"https://colab.research.google.com/assets/colab-badge.svg\" alt=\"Open In Colab\"/></a>"
      ]
    },
    {
      "cell_type": "markdown",
      "source": [
        "#**Desafio 3** - Univ. Ruddy Daniel Cruz Chura\n",
        "## Aproximación por Taylor\n",
        "### Función a Considerar: f(x) = SEN(x)"
      ],
      "metadata": {
        "id": "r2HbQkTJr36J"
      }
    },
    {
      "cell_type": "code",
      "execution_count": 2,
      "metadata": {
        "colab": {
          "base_uri": "https://localhost:8080/"
        },
        "id": "72Z2v9Jxr2IV",
        "outputId": "69b2151f-1e80-48b3-8fa2-d16e77ca7ed0"
      },
      "outputs": [
        {
          "output_type": "stream",
          "name": "stdout",
          "text": [
            "x0 = 0.7853981633974483\n",
            "sen(x0) = 0.7071067811865475 \n",
            "\n",
            "x1 = 1.0471975511965976\n",
            "sen(x1) = 0.8660254037844386 VALOR VERDADERO\n",
            "h = 0.26179938779914935 \n",
            " ---------------------------------------------------------\n",
            "Iteracion nº 1\n",
            "Sol 1 :  0.8922269036098127\n",
            "cos(x)  --->  0.7071067811865476\n",
            "error de f:  0.18512012242326523 \n",
            "\n",
            "Iteracion nº 2\n",
            "Sol 2 :  0.8679947362499555\n",
            "-sin(x)  --->  -0.7071067811865475\n",
            "error de f:  0.024232167359857202 \n",
            "\n",
            "Iteracion nº 3\n",
            "Sol 3 :  0.8658800807233364\n",
            "-cos(x)  --->  -0.7071067811865476\n",
            "error de f:  0.0021146555266190487 \n",
            "\n",
            "Iteracion nº 4\n",
            "Sol 4 :  0.8660184846039052\n",
            "sin(x)  --->  0.7071067811865475\n",
            "error de f:  0.00013840388056873866 \n",
            "\n",
            "Iteracion nº 5\n",
            "Sol 5 :  0.8660257314141455\n",
            "cos(x)  --->  0.7071067811865476\n",
            "error de f:  7.246810240384474e-06 \n",
            "\n"
          ]
        }
      ],
      "source": [
        "import math\n",
        "from sympy import *\n",
        "\n",
        "#x0 = PI/4\n",
        "x0 = math.pi/4\n",
        "#f(x0) = SEN(x0)\n",
        "fsenx0 = math.sin(x0)\n",
        "print(\"x0 =\",x0)\n",
        "print(\"sen(x0) =\",fsenx0,\"\\n\")\n",
        "\n",
        "#x1 = PI/3\n",
        "x1 = math.pi/3\n",
        "#f(x1) = SEN(x1)\n",
        "fsenx1 = math.sin(x1)\n",
        "print(\"x1 =\",x1)\n",
        "print(\"sen(x1) =\",fsenx1, \"VALOR VERDADERO\")\n",
        "\n",
        "#h = x1-x0\n",
        "h=x1-x0\n",
        "print(\"h =\",h,\"\\n\",\"---------------------------------------------------------\")\n",
        "\n",
        "#ITERACIONES\n",
        "n=5\n",
        "x = symbols('x')\n",
        "y = sin(x)\n",
        "\n",
        "g = fsenx0\n",
        "\n",
        "for i in range (1,n+1):\n",
        "  print(\"Iteracion nº\",i)\n",
        "  m = diff(y,x,i)\n",
        "  fun = lambdify(x,m)\n",
        "  g = g +fun(x0)/math.factorial(i)*h**i\n",
        "  print(\"Sol\",i,\": \",g)\n",
        "  print(m,\" ---> \",fun(x0))\n",
        "  ef = abs(fun(x0)*h**i)/math.factorial(i)\n",
        "  print(\"error de f: \",ef,\"\\n\")\n",
        "\n",
        "\n"
      ]
    },
    {
      "cell_type": "markdown",
      "source": [],
      "metadata": {
        "id": "b4xbGFDtr277"
      }
    }
  ]
}